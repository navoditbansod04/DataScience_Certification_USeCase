{
 "cells": [
  {
   "cell_type": "markdown",
   "metadata": {},
   "source": [
    "# Python Project : Customer Service Requests Analysis"
   ]
  },
  {
   "cell_type": "markdown",
   "metadata": {},
   "source": [
    "---\n",
    "## Useful reference to most common use cases\n",
    "\n",
    "The below link discusses all the most common use cases you encounter while dealing with datasets and how to solve them using Numpy & Pandas. It's a very good and handy one, all use cases you need for the project can be found in the below link if you diligently search it. \n",
    "\n",
    "https://www.kaggle.com/lavanyashukla01/pandas-numpy-python-cheatsheet/data#Intro\n",
    "\n",
    "---"
   ]
  },
  {
   "cell_type": "markdown",
   "metadata": {},
   "source": [
    "## 1. Importing Libraries\n",
    "\n",
    "Find the libraries you need to import , remember they may be difference for each task you plan to accomplish."
   ]
  },
  {
   "cell_type": "markdown",
   "metadata": {},
   "source": [
    "## 2. Importing Datasets of NYC 311 Project\n",
    "\n",
    "Use read_csv method available with Pandas.\n",
    "\n",
    "https://pymotw.com/2/ospath/ \n",
    "\n",
    "Assuming you have the data set placed in a folder called `datasets` which is at the same level of your `*.ipynb` file the following code will be sufficient to read the file paths\n",
    "\n",
    "```\n",
    "import os\n",
    "file_path = os.path.relpath('../datasets/311_Service_Requests_from_2010_to_Present.csv')\n",
    "data = pd.read_csv(file_path)\n",
    "\n",
    "```"
   ]
  },
  {
   "cell_type": "markdown",
   "metadata": {},
   "source": [
    "## 3. Converting the columns ‘Created Date’ and Closed Date’ to datetime datatype\n",
    "\n",
    "**Hint :** Refer to the use case reference "
   ]
  },
  {
   "cell_type": "markdown",
   "metadata": {},
   "source": [
    "## 4.  Creating a new column ‘Request_Closing_Time’ as the time elapsed between request creation and request closing."
   ]
  },
  {
   "cell_type": "markdown",
   "metadata": {},
   "source": [
    "## 5. Exploring Datasets and visualizing them into Graphs\n",
    "\n",
    "https://github.com/ayush159/NYC-311/blob/master/NYC311.ipynb\n",
    "\n",
    "Reference to generate multiple types of graphs that can be generated.\n"
   ]
  },
  {
   "cell_type": "markdown",
   "metadata": {},
   "source": [
    "### Observation 1:"
   ]
  },
  {
   "cell_type": "markdown",
   "metadata": {},
   "source": [
    "### Observation 2:"
   ]
  },
  {
   "cell_type": "markdown",
   "metadata": {},
   "source": [
    "### Observation 3:"
   ]
  },
  {
   "cell_type": "markdown",
   "metadata": {},
   "source": [
    "### Observation 4: "
   ]
  },
  {
   "cell_type": "markdown",
   "metadata": {},
   "source": [
    "## 6. Ordering the complaint types based on the average ‘Request_Closing_Time’, and grouping them for different locations."
   ]
  },
  {
   "cell_type": "markdown",
   "metadata": {},
   "source": [
    "## 7. Declaring Null Hypothesis and Alternate Hypothesis for the average response time across complaint types is similar or not¶\n",
    "\n",
    "**Hint :** You need to appropriately group your data so that you can apply hypothesis testing to find out if the average response times across complaint types are same or not. Remember hypothesis testing tries for compare the means of different groups. \n",
    "\n",
    "\n",
    "\n",
    "\n",
    "\n",
    "## 8. Statistical test for the average response time across complaint types is similar or not\n",
    "\n",
    "You can use two approaches to do this test\n",
    "\n",
    "- Just comparing the means you get manually and accepting or rejecting null hypothesis \n",
    "\n",
    "                                    or\n",
    "\n",
    "- Explore Anova testing in statistics, which can be used for hypothesis testing that require comparing means.      https://docs.scipy.org/doc/scipy/reference/generated/scipy.stats.f_oneway.html "
   ]
  },
  {
   "cell_type": "markdown",
   "metadata": {},
   "source": [
    "## 9. Declaring Null Hypothesis or Alternate Hypothesis for the type of complaint or service requested and location related\n",
    "\n",
    "**Hint :** This task is similar to the geneder and spending co-relation example we looked in stats class. \n",
    "\n",
    "- Use the feature 'City' in your dataset for location grouping.\n",
    "\n",
    "## 10. Statistical test for the type of complaint or service requested and location related\n",
    "\n",
    "**Hint:** \n",
    "\n",
    "- Do cross tab first for the respective coloums of interest,\n",
    "- This gives you the observed frequency\n",
    "- And then run a chisquare test on the cross tab data\n",
    "\n",
    "#### Cross tab from Pandas \n",
    "\n",
    "https://humansofdata.atlan.com/2016/01/cross-tabulation-how-why/\n",
    "\n",
    "https://pandas.pydata.org/pandas-docs/version/0.18/generated/pandas.crosstab.html \n",
    "\n",
    "#### Chi Square test \n",
    "\n",
    "https://docs.scipy.org/doc/scipy/reference/generated/scipy.stats.chisquare.html#scipy.stats.chisquare \n",
    "\n"
   ]
  },
  {
   "cell_type": "code",
   "execution_count": null,
   "metadata": {},
   "outputs": [],
   "source": []
  }
 ],
 "metadata": {
  "kernelspec": {
   "display_name": "Python 3",
   "language": "python",
   "name": "python3"
  },
  "language_info": {
   "codemirror_mode": {
    "name": "ipython",
    "version": 3
   },
   "file_extension": ".py",
   "mimetype": "text/x-python",
   "name": "python",
   "nbconvert_exporter": "python",
   "pygments_lexer": "ipython3",
   "version": "3.6.4"
  }
 },
 "nbformat": 4,
 "nbformat_minor": 2
}
